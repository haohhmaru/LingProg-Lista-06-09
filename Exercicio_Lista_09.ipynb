{
 "cells": [
  {
   "cell_type": "markdown",
   "metadata": {},
   "source": [
    "Lista de Exercicios aula 09\n",
    "Alessandro Lima Da Silva\n",
    "R.A 201522705\n",
    "CCP3AN-MCA"
   ]
  },
  {
   "cell_type": "markdown",
   "metadata": {},
   "source": [
    "1 Implemente um gerador infinito de números primos.\n",
    "Ex:\n",
    "i = 0\n",
    "while i < 10:\n",
    "print(gera_primos())\n",
    "i += 1\n",
    "Este código imprime os 10 primeiros números primos, isto é: 1, 2, 3, 5, 7, 11, 13, 17,\n",
    "19, 23."
   ]
  },
  {
   "cell_type": "code",
   "execution_count": 14,
   "metadata": {},
   "outputs": [],
   "source": [
    "def gerar_prim():\n",
    "    n = 1\n",
    "    while True:\n",
    "        if primo(n):\n",
    "            yield n\n",
    "        n += 1\n",
    "        \n",
    "def primo(n):\n",
    "    if (n == 1 or n == 2):\n",
    "        return True;\n",
    "    else:\n",
    "        for i in range(2, n):\n",
    "            if(n % i == 0):\n",
    "                return False\n",
    "        return True"
   ]
  },
  {
   "cell_type": "code",
   "execution_count": 39,
   "metadata": {},
   "outputs": [
    {
     "name": "stdout",
     "output_type": "stream",
     "text": [
      "O  1 º número primo é:  1\n",
      "O  2 º número primo é:  2\n",
      "O  3 º número primo é:  3\n",
      "O  4 º número primo é:  5\n",
      "O  5 º número primo é:  7\n",
      "O  6 º número primo é:  11\n",
      "O  7 º número primo é:  13\n",
      "O  8 º número primo é:  17\n",
      "O  9 º número primo é:  19\n",
      "O  10 º número primo é:  23\n"
     ]
    }
   ],
   "source": [
    "primos = gerar_prim()\n",
    "con = 0\n",
    "while(con < 10):\n",
    "    con = con + 1\n",
    "    print('O ',con,'º número primo é: ', primos.send(None))"
   ]
  },
  {
   "cell_type": "markdown",
   "metadata": {},
   "source": [
    "2 Implementar um gerador que leia um arquivo e retorne uma lista de tuplas com os\n",
    "dados (o separador de campo do arquivo é virgula), eliminando as linhas vazias. Caso\n",
    "ocorra algum problema, imprima uma mensagem de aviso e encerre o programa.\n",
    "Use o exemplo abaixo como arquivo de entrada:\n",
    "Ex:\n",
    "Entrada:\n",
    "teste.txt\n",
    "1,vermelho,2,verde,3,amarelo,4,roxo\n",
    "5,verde,6,preto,7,laranja,8,amarelo\n",
    "9,preto,10,roxo,11,roxo,12,branco\n",
    "Chamada:\n",
    "gera_tupla(teste.txt)\n",
    "Retorno:\n",
    "[(1,'vermelho'),(2,'verde'),(3,'amarelo'),(4,'roxo'),(5,'verde\n",
    "'),(6,'preto'),(7,'laranja'),(8,'amarelo'),(9,'preto'),(10,'ro\n",
    "xo'),(11,'roxo'),(12,'branco')]"
   ]
  },
  {
   "cell_type": "code",
   "execution_count": 56,
   "metadata": {},
   "outputs": [],
   "source": [
    "def gerar_tupla(nomeArquivo):\n",
    "    tuplas = []\n",
    "    conteudo = \"\"\n",
    "    arquivo = open(nomeArquivo)\n",
    "    linhaArquivo = arquivo.readline()\n",
    "    while linhaArquivo:\n",
    "        linha = linhaArquivo.split(\",\")\n",
    "        linha[len(linha) - 1] = linha[len(linha) - 1].strip()\n",
    "        for i in range(0,len(linha),2):\n",
    "            tuplas.append((int(linha[i]),linha[i + 1]))\n",
    "        linhaArquivo = arquivo.readline()\n",
    "    arquivo.close()\n",
    "    yield tuplas;"
   ]
  },
  {
   "cell_type": "code",
   "execution_count": 57,
   "metadata": {},
   "outputs": [
    {
     "name": "stdout",
     "output_type": "stream",
     "text": [
      "[(1, 'vermelho'), (2, 'verde'), (3, 'amarelo'), (4, 'roxo'), (5, 'verde'), (6, 'preto'), (7, 'laranja'), (8, 'amarelo'), (9, 'preto'), (10, 'roxo'), (11, 'roxo'), (12, 'branco')]\n"
     ]
    }
   ],
   "source": [
    "print(gerar_tupla(\"teste.txt\").send(None))"
   ]
  },
  {
   "cell_type": "markdown",
   "metadata": {},
   "source": [
    "3 Implementar dois geradores e rodá-los em paralelo (coroutine) para processar dois\n",
    "arquivos e gerar tuplas. O primeiro é similar ao do exercício 2. O segundo processa\n",
    "outro arquivo, também separado por vírgulas. No final, a lista gerada deve conter\n",
    "tuplas com 3 elementos. Use o exemplo baixo como base:\n",
    "Entrada:\n",
    "teste1.txt\n",
    "1,vermelho,2,verde,3,amarelo,4,roxo\n",
    "5,verde,6,preto,7,laranja,8,amarelo\n",
    "9,preto,10,roxo,11,roxo,12,branco\n",
    "teste2.txt\n",
    "0,1,0,0\n",
    "1,1,1,0\n",
    "1,0,0,1\n",
    "Chamada:\n",
    "gera_tupla1(teste1.txt), gera_tupla2(teste2.txt)\n",
    "Retorno:[(1,'vermelho',False),(2,'verde',True),(3,'amarelo',False),(4,\n",
    "'roxo',False),(5,'verde',True),(6,'preto',True),(7,'laranja',T\n",
    "rue),(8,'amarelo',False),(9,'preto',True),(10,'roxo',False),(1\n",
    "1,'roxo',False),(12,'branco',True)]"
   ]
  },
  {
   "cell_type": "code",
   "execution_count": 79,
   "metadata": {},
   "outputs": [],
   "source": [
    "def gerar_tupla(nomeArquivo):\n",
    "    tuplas = []\n",
    "    conteudo = \"\"\n",
    "    arquivo = open(nomeArquivo)\n",
    "    linhaArquivo = arquivo.readline()\n",
    "    while linhaArquivo:\n",
    "        linha = linhaArquivo.split(\",\")\n",
    "        linha[len(linha) - 1] = linha[len(linha) - 1].strip()\n",
    "        for i in range(0,len(linha),2):\n",
    "            tuplas.append((int(linha[i]),linha[i + 1]))\n",
    "        linhaArquivo = arquivo.readline()\n",
    "    arquivo.close()\n",
    "    yield tuplas;"
   ]
  },
  {
   "cell_type": "code",
   "execution_count": 92,
   "metadata": {},
   "outputs": [],
   "source": [
    "def gerar_tupla2(nomeArquivo):\n",
    "    tuplas = []\n",
    "    conteudo = \"\"\n",
    "    arquivo = open(nomeArquivo)\n",
    "    linhaArquivo = arquivo.readline()\n",
    "    while linhaArquivo:\n",
    "        linha = linhaArquivo.split(\",\")\n",
    "        linha[len(linha) - 1] = linha[len(linha) - 1].strip()\n",
    "        if linha == 0:\n",
    "            tuplas.append(('False'))\n",
    "            yield tuplas;\n",
    "        else:    \n",
    "            tuplas.append(('True'))\n",
    "            yield tuplas;\n",
    "            linhaArquivo = arquivo.readline()\n",
    "    arquivo.close()\n",
    "    yield tuplas;"
   ]
  },
  {
   "cell_type": "code",
   "execution_count": 97,
   "metadata": {},
   "outputs": [
    {
     "name": "stdout",
     "output_type": "stream",
     "text": [
      "[(1, 'vermelho'), (2, 'verde'), (3, 'amarelo'), (4, 'roxo'), (5, 'verde'), (6, 'preto'), (7, 'laranja'), (8, 'amarelo'), (9, 'preto'), (10, 'roxo'), (11, 'roxo'), (12, 'branco')] ['True']\n"
     ]
    }
   ],
   "source": [
    "(s1,s2) = (gerar_tupla(\"teste.txt\").send(None),gerar_tupla2(\"teste2.txt\").send(None))\n",
    "print(s1,s2)"
   ]
  },
  {
   "cell_type": "markdown",
   "metadata": {},
   "source": [
    "4 Escreva um generator que crie um fluxo infinito de inteiros a partir de um valor\n",
    "inicial dado com passo 5.\n",
    "Ex: gera_inteiros(7) = 12, 17, 22, 27, ..."
   ]
  },
  {
   "cell_type": "code",
   "execution_count": 103,
   "metadata": {},
   "outputs": [],
   "source": [
    "def gerar_inteiro(n):\n",
    "    passo = n + 5\n",
    "    yield passo\n",
    "    while True:\n",
    "        passo += 5\n",
    "        yield passo"
   ]
  },
  {
   "cell_type": "code",
   "execution_count": 107,
   "metadata": {},
   "outputs": [
    {
     "name": "stdout",
     "output_type": "stream",
     "text": [
      "O  1 º inteiro é:  12\n",
      "O  2 º inteiro é:  17\n",
      "O  3 º inteiro é:  22\n",
      "O  4 º inteiro é:  27\n",
      "O  5 º inteiro é:  32\n",
      "O  6 º inteiro é:  37\n",
      "O  7 º inteiro é:  42\n"
     ]
    }
   ],
   "source": [
    "p = gerar_inteiro(7)\n",
    "con = 0\n",
    "while con < 7:\n",
    "    con = con + 1\n",
    "    print('O ',con,'º inteiro é: ', p.send(None))"
   ]
  },
  {
   "cell_type": "markdown",
   "metadata": {},
   "source": [
    "5 Estenda o generator do exercício 4 em uma coroutine que permita que a mudança\n",
    "do passo seja feita de fora (use send()).\n",
    "Ex: gera_inteiros_flex(7) = 12, 17, 22, 24, 26, 28, 30...\n",
    "Entre 22 e 24 o passo foi alterado de 5 para 2."
   ]
  },
  {
   "cell_type": "code",
   "execution_count": 125,
   "metadata": {},
   "outputs": [],
   "source": [
    "def gerar_inteiro(n):\n",
    "    passo = n + 5\n",
    "    yield passo\n",
    "    while True:\n",
    "        incremento = yield\n",
    "        passo += incremento\n",
    "        yield passo"
   ]
  },
  {
   "cell_type": "code",
   "execution_count": 127,
   "metadata": {},
   "outputs": [
    {
     "name": "stdout",
     "output_type": "stream",
     "text": [
      "O  4 º inteiro é:  12\n",
      "O  0 º inteiro é:  17\n",
      "O  1 º inteiro é:  22\n",
      "O  0 º inteiro é:  24\n",
      "O  1 º inteiro é:  26\n",
      "O  2 º inteiro é:  28\n",
      "O  3 º inteiro é:  30\n"
     ]
    }
   ],
   "source": [
    "p = gerar_inteiro(7)\n",
    "print('O ',con,'º inteiro é: ', p.send(None))\n",
    "con = 0\n",
    "while con < 2:\n",
    "    next(p)\n",
    "    print('O ',con,'º inteiro é: ', p.send(5))\n",
    "    con = con + 1\n",
    "\n",
    "\n",
    "con = 0\n",
    "while con < 4:\n",
    "    next(p)\n",
    "    print('O ',con,'º inteiro é: ', p.send(2))\n",
    "    con = con + 1"
   ]
  },
  {
   "cell_type": "code",
   "execution_count": null,
   "metadata": {},
   "outputs": [],
   "source": []
  }
 ],
 "metadata": {
  "kernelspec": {
   "display_name": "Python 3",
   "language": "python",
   "name": "python3"
  },
  "language_info": {
   "codemirror_mode": {
    "name": "ipython",
    "version": 3
   },
   "file_extension": ".py",
   "mimetype": "text/x-python",
   "name": "python",
   "nbconvert_exporter": "python",
   "pygments_lexer": "ipython3",
   "version": "3.6.4"
  }
 },
 "nbformat": 4,
 "nbformat_minor": 2
}
